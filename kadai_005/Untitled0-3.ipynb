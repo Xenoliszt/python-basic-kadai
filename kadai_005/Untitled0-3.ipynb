{
  "nbformat": 4,
  "nbformat_minor": 0,
  "metadata": {
    "colab": {
      "provenance": []
    },
    "kernelspec": {
      "name": "python3",
      "display_name": "Python 3"
    },
    "language_info": {
      "name": "python"
    }
  },
  "cells": [
    {
      "cell_type": "code",
      "source": [
        "number1 = 10 + 20\n",
        "number2 = 5\n",
        "number3 = number1 * number2\n",
        "number4 = number3/2\n",
        "\n",
        "print(f\"{number4}cm²\")"
      ],
      "metadata": {
        "colab": {
          "base_uri": "https://localhost:8080/"
        },
        "id": "moFVHzJKrzCr",
        "outputId": "febb26c7-ee2f-4279-c6b5-22680e801f6b"
      },
      "execution_count": 8,
      "outputs": [
        {
          "output_type": "stream",
          "name": "stdout",
          "text": [
            "75.0cm²\n"
          ]
        }
      ]
    }
  ]
}